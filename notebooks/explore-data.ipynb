{
 "nbformat": 4,
 "nbformat_minor": 2,
 "metadata": {
  "language_info": {
   "name": "python",
   "codemirror_mode": {
    "name": "ipython",
    "version": 3
   },
   "version": "3.7.6-final"
  },
  "orig_nbformat": 2,
  "file_extension": ".py",
  "mimetype": "text/x-python",
  "name": "python",
  "npconvert_exporter": "python",
  "pygments_lexer": "ipython3",
  "version": 3,
  "kernelspec": {
   "name": "python37664bitazuremlcustomerchurnconda333f9d2e7dd246df8e2a65ddfa476e59",
   "display_name": "Python 3.7.6 64-bit ('azureml-customerchurn': conda)"
  }
 },
 "cells": [
  {
   "cell_type": "code",
   "execution_count": 2,
   "metadata": {},
   "outputs": [],
   "source": [
    "import pandas as pd\n",
    "from pandas_profiling import ProfileReport"
   ]
  },
  {
   "cell_type": "code",
   "execution_count": 3,
   "metadata": {},
   "outputs": [],
   "source": [
    "df_customerchurn = pd.read_csv('../data/raw/customer-churn.csv', na_values=[' '])"
   ]
  },
  {
   "cell_type": "code",
   "execution_count": 4,
   "metadata": {},
   "outputs": [
    {
     "name": "stdout",
     "output_type": "stream",
     "text": "<class 'pandas.core.frame.DataFrame'>\nRangeIndex: 7043 entries, 0 to 7042\nData columns (total 21 columns):\ncustomerID          7043 non-null object\ngender              7043 non-null object\nSeniorCitizen       7043 non-null int64\nPartner             7043 non-null object\nDependents          7043 non-null object\ntenure              7043 non-null int64\nPhoneService        7043 non-null object\nMultipleLines       7043 non-null object\nInternetService     7043 non-null object\nOnlineSecurity      7043 non-null object\nOnlineBackup        7043 non-null object\nDeviceProtection    7043 non-null object\nTechSupport         7043 non-null object\nStreamingTV         7043 non-null object\nStreamingMovies     7043 non-null object\nContract            7043 non-null object\nPaperlessBilling    7043 non-null object\nPaymentMethod       7043 non-null object\nMonthlyCharges      7043 non-null float64\nTotalCharges        7032 non-null float64\nChurn               7043 non-null object\ndtypes: float64(2), int64(2), object(17)\nmemory usage: 1.1+ MB\n"
    }
   ],
   "source": [
    "df_customerchurn.info()"
   ]
  },
  {
   "cell_type": "code",
   "execution_count": 5,
   "metadata": {},
   "outputs": [
    {
     "name": "stderr",
     "output_type": "stream",
     "text": "variables: 100%|██████████| 21/21 [00:02<00:00,  8.50it/s]\ncorrelations [recoded]: 100%|██████████| 6/6 [00:02<00:00,  2.73it/s]\ninteractions [continuous]: 100%|██████████| 9/9 [00:00<00:00, 10.38it/s]\ntable: 100%|██████████| 1/1 [00:00<00:00, 15.26it/s]\nmissing [dendrogram]: 100%|██████████| 3/3 [00:00<00:00,  5.62it/s]\nwarnings [correlations]: 100%|██████████| 3/3 [00:00<00:00, 664.99it/s]\npackage: 100%|██████████| 1/1 [00:00<00:00, 166.69it/s]\nbuild report structure: 100%|██████████| 1/1 [00:02<00:00,  2.98s/it]\n"
    }
   ],
   "source": [
    "ProfileReport(df_customerchurn).to_file('../reports/customer-churn.html')"
   ]
  },
  {
   "cell_type": "code",
   "execution_count": null,
   "metadata": {},
   "outputs": [],
   "source": []
  }
 ]
}