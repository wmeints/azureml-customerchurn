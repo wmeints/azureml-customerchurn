{
 "nbformat": 4,
 "nbformat_minor": 2,
 "metadata": {
  "language_info": {
   "name": "python",
   "codemirror_mode": {
    "name": "ipython",
    "version": 3
   },
   "version": "3.7.6-final"
  },
  "orig_nbformat": 2,
  "file_extension": ".py",
  "mimetype": "text/x-python",
  "name": "python",
  "npconvert_exporter": "python",
  "pygments_lexer": "ipython3",
  "version": 3,
  "kernelspec": {
   "name": "python37664bitazuremlcustomerchurnconda333f9d2e7dd246df8e2a65ddfa476e59",
   "display_name": "Python 3.7.6 64-bit ('azureml-customerchurn': conda)"
  }
 },
 "cells": [
  {
   "cell_type": "code",
   "execution_count": 2,
   "metadata": {},
   "outputs": [],
   "source": [
    "import pandas as pd"
   ]
  },
  {
   "cell_type": "code",
   "execution_count": 8,
   "metadata": {},
   "outputs": [],
   "source": [
    "df_customerchurn = pd.read_csv('../data/raw/customer-churn.csv', na_values=[' '])"
   ]
  },
  {
   "cell_type": "code",
   "execution_count": 9,
   "metadata": {},
   "outputs": [
    {
     "name": "stdout",
     "output_type": "stream",
     "text": "<class 'pandas.core.frame.DataFrame'>\nRangeIndex: 7043 entries, 0 to 7042\nData columns (total 21 columns):\ncustomerID          7043 non-null object\ngender              7043 non-null object\nSeniorCitizen       7043 non-null int64\nPartner             7043 non-null object\nDependents          7043 non-null object\ntenure              7043 non-null int64\nPhoneService        7043 non-null object\nMultipleLines       7043 non-null object\nInternetService     7043 non-null object\nOnlineSecurity      7043 non-null object\nOnlineBackup        7043 non-null object\nDeviceProtection    7043 non-null object\nTechSupport         7043 non-null object\nStreamingTV         7043 non-null object\nStreamingMovies     7043 non-null object\nContract            7043 non-null object\nPaperlessBilling    7043 non-null object\nPaymentMethod       7043 non-null object\nMonthlyCharges      7043 non-null float64\nTotalCharges        7032 non-null float64\nChurn               7043 non-null object\ndtypes: float64(2), int64(2), object(17)\nmemory usage: 1.1+ MB\n"
    }
   ],
   "source": [
    "df_customerchurn.info()"
   ]
  }
 ]
}